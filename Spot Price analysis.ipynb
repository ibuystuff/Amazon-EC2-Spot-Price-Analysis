{
 "cells": [
  {
   "cell_type": "markdown",
   "metadata": {},
   "source": [
    "## Amazon EC2 Spot Price Data analysis\n",
    "\n",
    "Amazon web services provides different pricing models pay-per-use, fixed, and auction-based (spot price). It is seen that the spot price is a minimum of 5 times cheaper than the other pricing models but there is no guarentee that you will be given the instance. It depends on the price you bid. Thus, analysis of historical data for spot price inorder to efficiently (minimal cost) schedule the jobs is important."
   ]
  },
  {
   "cell_type": "markdown",
   "metadata": {},
   "source": [
    "boto3 is a package (Amazon Api) for pulling the price history. It provides trailing data upto 90 days."
   ]
  },
  {
   "cell_type": "code",
   "execution_count": 1,
   "metadata": {
    "collapsed": true
   },
   "outputs": [],
   "source": [
    "# Importing the necessary packages.\n",
    "\n",
    "import boto3\n",
    "import pandas as pd\n",
    "import datetime"
   ]
  },
  {
   "cell_type": "markdown",
   "metadata": {},
   "source": [
    "Below is the code to pull the data. The key method is describe_spot_price_history. The handler takes input for the start and end times for the data you are interested in, instance type, region, Product Description. Remember amazon provides only the most recent 90 days of price history. The code is facilitated to provide a list of instance type if we are interested in multiple instance types and so with the product description."
   ]
  }
 ],
 "metadata": {
  "kernelspec": {
   "display_name": "Python 3",
   "language": "python",
   "name": "python3"
  },
  "language_info": {
   "codemirror_mode": {
    "name": "ipython",
    "version": 3
   },
   "file_extension": ".py",
   "mimetype": "text/x-python",
   "name": "python",
   "nbconvert_exporter": "python",
   "pygments_lexer": "ipython3",
   "version": "3.6.3"
  }
 },
 "nbformat": 4,
 "nbformat_minor": 2
}
